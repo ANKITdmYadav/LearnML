{
 "cells": [
  {
   "cell_type": "code",
   "execution_count": null,
   "metadata": {},
   "outputs": [],
   "source": [
    "import logging\n",
    "from logging.handlers import RotatingFileHandler\n",
    "def logger_with_rotating():\n",
    "    logger=logger.getLogger('rotating_logger')\n",
    "    logger.setLevel(logging.DEBUG)\n",
    "\n",
    "    rotating_handler=RotatingFileHandler('rotating_app.log',maxBytes=2096,backupCount=5)\n",
    "    formatter=logging.Formatter('%(asctime)s - %(name)s - %(levelname)s - %(message)s')\n",
    "    rotating_handler.setFormatter(formatter)\n",
    "\n",
    "    logger.addHandler(rotating_handler)\n",
    "\n",
    "    for i in range(100):\n",
    "        logger.debug('This debug msg{}'.format(i))\n",
    "\n",
    "logger_with_rotating()\n"
   ]
  },
  {
   "cell_type": "code",
   "execution_count": 4,
   "metadata": {},
   "outputs": [],
   "source": [
    "import logging\n",
    "from module_a import module_a_function\n",
    "from module_b import module_b_function\n",
    "\n",
    "def setup_logging():\n",
    "    logger=logging.getLogger(\"mod1\")\n"
   ]
  },
  {
   "cell_type": "code",
   "execution_count": null,
   "metadata": {},
   "outputs": [],
   "source": [
    "logger=logging.getLogger(\"performance based\")\n",
    "logger.setLevel(logging.DEBUG)\n",
    "file_handler=logging.FileHandler('performance1.log')\n",
    "logger.addHandler(file_handler)\n",
    "logger.removeHandler(file_handler)\n",
    "\n",
    "console_handler=logging.StreamHandler()\n",
    "console_handler.setLevel(logging.DEBUG)\n",
    "logger.addHandler(console_handler)\n",
    "\n",
    "Rotating=logging.getLogger('Rotating')\n",
    "Rotating.setLevel(logging.DEBUG)\n",
    "logger.addHandler(Rotating)\n"
   ]
  },
  {
   "cell_type": "code",
   "execution_count": null,
   "metadata": {},
   "outputs": [],
   "source": []
  },
  {
   "cell_type": "code",
   "execution_count": null,
   "metadata": {},
   "outputs": [],
   "source": []
  },
  {
   "cell_type": "code",
   "execution_count": null,
   "metadata": {},
   "outputs": [],
   "source": []
  },
  {
   "cell_type": "code",
   "execution_count": null,
   "metadata": {},
   "outputs": [],
   "source": []
  }
 ],
 "metadata": {
  "kernelspec": {
   "display_name": "base",
   "language": "python",
   "name": "python3"
  },
  "language_info": {
   "codemirror_mode": {
    "name": "ipython",
    "version": 3
   },
   "file_extension": ".py",
   "mimetype": "text/x-python",
   "name": "python",
   "nbconvert_exporter": "python",
   "pygments_lexer": "ipython3",
   "version": "3.12.7"
  }
 },
 "nbformat": 4,
 "nbformat_minor": 2
}
