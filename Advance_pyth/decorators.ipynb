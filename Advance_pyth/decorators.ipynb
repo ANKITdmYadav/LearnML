{
 "cells": [
  {
   "cell_type": "code",
   "execution_count": 23,
   "metadata": {},
   "outputs": [
    {
     "name": "stdout",
     "output_type": "stream",
     "text": [
      "welcome my friend \n",
      "everything is fine \n"
     ]
    }
   ],
   "source": [
    "def welcome(func):\n",
    "    def sub_wel():\n",
    "        print(\"welcome my friend \")\n",
    "        func()\n",
    "    return sub_wel()\n",
    "\n",
    "@welcome\n",
    "def course_intro():\n",
    "    print(\"everything is fine \")\n",
    "\n",
    "course_intro\n",
    "\n"
   ]
  },
  {
   "cell_type": "code",
   "execution_count": 27,
   "metadata": {},
   "outputs": [
    {
     "name": "stdout",
     "output_type": "stream",
     "text": [
      "get vanilla ice cream\n",
      "sprinkles added\n"
     ]
    }
   ],
   "source": [
    "def add_sprinkles(func):\n",
    "    def wrapper(*args,**kargs):\n",
    "        func(*args,**kargs)\n",
    "        print(\"sprinkles added\")\n",
    "    return wrapper\n",
    "\n",
    "@add_sprinkles\n",
    "def get_ice_cream(flavor):\n",
    "    print(f\"get {flavor} ice cream\")\n",
    "\n",
    "get_ice_cream(\"vanilla\")"
   ]
  },
  {
   "cell_type": "code",
   "execution_count": 30,
   "metadata": {},
   "outputs": [
    {
     "name": "stdout",
     "output_type": "stream",
     "text": [
      "get  ice cream\n",
      "sprinkles added\n"
     ]
    }
   ],
   "source": [
    "# if we don't write wrapper then it will run always\n",
    "\n",
    "def add_sprinkles(func):\n",
    "    func()\n",
    "    print(\"sprinkles added\")\n",
    "\n",
    "@add_sprinkles\n",
    "def get_ice_cream():\n",
    "    print(f\"get  ice cream\")\n",
    "\n"
   ]
  }
 ],
 "metadata": {
  "kernelspec": {
   "display_name": "base",
   "language": "python",
   "name": "python3"
  },
  "language_info": {
   "codemirror_mode": {
    "name": "ipython",
    "version": 3
   },
   "file_extension": ".py",
   "mimetype": "text/x-python",
   "name": "python",
   "nbconvert_exporter": "python",
   "pygments_lexer": "ipython3",
   "version": "3.12.7"
  }
 },
 "nbformat": 4,
 "nbformat_minor": 2
}
