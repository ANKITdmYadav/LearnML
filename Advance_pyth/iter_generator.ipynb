{
 "cells": [
  {
   "cell_type": "code",
   "execution_count": 28,
   "metadata": {},
   "outputs": [
    {
     "name": "stdout",
     "output_type": "stream",
     "text": [
      "<class 'list_iterator'>\n"
     ]
    },
    {
     "data": {
      "text/plain": [
       "3"
      ]
     },
     "execution_count": 28,
     "metadata": {},
     "output_type": "execute_result"
    }
   ],
   "source": [
    "lst=[1,2,3,4,5]\n",
    "iterator=iter(lst)\n",
    "print(type(iterator))    \n",
    "next(iterator)\n",
    "next(iterator)\n",
    "next(iterator)"
   ]
  },
  {
   "cell_type": "code",
   "execution_count": 34,
   "metadata": {},
   "outputs": [
    {
     "name": "stdout",
     "output_type": "stream",
     "text": [
      "0\n",
      "1\n",
      "4\n",
      "9\n",
      "16\n"
     ]
    }
   ],
   "source": [
    "def square(n):\n",
    "    for i in range(n):\n",
    "        yield i**2\n",
    "square(3)\n",
    "\n",
    "for i in square(5):\n",
    "    print(i)"
   ]
  },
  {
   "cell_type": "code",
   "execution_count": 36,
   "metadata": {},
   "outputs": [
    {
     "data": {
      "text/plain": [
       "1"
      ]
     },
     "execution_count": 36,
     "metadata": {},
     "output_type": "execute_result"
    }
   ],
   "source": [
    "def my_gen():\n",
    "    yield 1\n",
    "    yield 2\n",
    "    yield 3\n",
    "g=my_gen()\n",
    "g\n",
    "next(g)"
   ]
  },
  {
   "cell_type": "code",
   "execution_count": 40,
   "metadata": {},
   "outputs": [
    {
     "name": "stdout",
     "output_type": "stream",
     "text": [
      "Virat Kohli (born November 5, 1988, Delhi, India) is an Indian international cricketer considered by many as one of the greatest batsmen in the history of the game. Kohli plays for (and previously captained) the Royal Challengers Bangalore (RCB) in the Indian Premier League (IPL). He is also a former captain of the Indian cricket team in all three international formats—Test cricket, one-day internationals (ODIs), and Twenty20 internationals (T20I)—making him one of India’s most successful captains.\n",
      "\n",
      "Kohli has earned praise for his discipline and commitment from teammates, opponents, and cricket veterans alike. “He has changed the face of cricket and how you prepare for the game. The discipline that he has stands out, always,” cricketing great Brian Lara said of Kohli after Kohli was named Player of the Tournament for the 2023 Cricket World Cup.\n",
      "\n",
      "Kohli holds several cricket records, including the most individual hundreds in ODI matches and the most runs scored in a single edition of an ODI World Cup. He has been named Player of the Tournament at global events on three occasions: at the 2014 and 2016 T20I World Cups and the 2023 ODI World Cup. Kohli was also a member of the Indian sides that won the 2011 ODI World Cup, the 2013 ICC (International Cricket Council) Champions Trophy, and the 2024 T20I World Cup. He announced his retirement from Twenty20 international cricket after India won the 2024 T20I World Cup. Kohli’s announcement came after he was declared Player of the Match in the final match. He retired from Test cricket a year later, having been India’s most successful captain in the format. Kohli is married to popular Bollywood actress and producer Anushka Sharma.\n",
      "\n",
      "Early life and career\n",
      "Virat Kohli was born on November 5, 1988, in Delhi, India. He grew up in Delhi and was one of the first to train at the West Delhi Cricket Academy, created in 1998. In 2002 he played for the Delhi Under-15 team and was the highest run scorer in the 2003–04 Vijay Merchant Trophy, playing for the Delhi Under-17 team.\n",
      "\n",
      "In February 2006 Kohli made his domestic debut for Delhi in a one-day match against Services (a team representing the Indian armed forces) but did not get a chance to bat. He scored only 10 runs in his first-class debut (first-class cricket refers to matches that last three or more days and feature two sides of 11 players each) against Tamil Nadu in November that year. He scored 90 runs in difficult conditions in a first-class match against Karnataka in December, helping Delhi draw the Test. In April 2007 he scored 35 runs in his T20 domestic debut against Himachal Pradesh.\n",
      "\n",
      "Kohli captained the Under-19 Indian cricket team to victory at the ICC Under-19 World Cup in Kuala Lumpur, Malaysia, in 2008. His exploits were rewarded with an IPL contract from RCB for $30,000. He also made his international debut in an ODI that year, opening the batting and scoring 12 in a defeat of Sri Lanka in Dambulla, Sri Lanka. In 2009 he scored 405 runs in nine innings in the Emerging Players Tournament in Australia, ensuring that he would be at the top of the national team selectors’ minds.\n",
      "\n",
      "Indian Premier League\n",
      "Virat Kohli has played for the Royal Challengers Bangalore throughout his IPL career and is the only player to have played for just one franchise in IPL history. His first two seasons for RCB did not yield much in the way of runs, but he had some standout performances after his promotion to vice captain in 2010. Ahead of the 2011 IPL auctions, teams were mandated by league officials to retain up to four players each. Kohli was the only player RCB retained, for $1.8 million. He played some key knocks (innings) as RCB reached the league final but lost to Chennai Super Kings that year\n"
     ]
    }
   ],
   "source": [
    "def read_large_file(filePath):\n",
    "    with open(filePath,'r') as file:\n",
    "        for line in file:\n",
    "            yield line.strip()\n",
    "\n",
    "filename='file_path.txt'\n",
    "for line in read_large_file(filename):\n",
    "    print(line.strip())"
   ]
  }
 ],
 "metadata": {
  "kernelspec": {
   "display_name": "base",
   "language": "python",
   "name": "python3"
  },
  "language_info": {
   "codemirror_mode": {
    "name": "ipython",
    "version": 3
   },
   "file_extension": ".py",
   "mimetype": "text/x-python",
   "name": "python",
   "nbconvert_exporter": "python",
   "pygments_lexer": "ipython3",
   "version": "3.12.7"
  }
 },
 "nbformat": 4,
 "nbformat_minor": 2
}
