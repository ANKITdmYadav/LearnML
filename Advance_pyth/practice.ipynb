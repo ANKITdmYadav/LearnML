{
 "cells": [
  {
   "cell_type": "code",
   "execution_count": 3,
   "metadata": {},
   "outputs": [
    {
     "name": "stdout",
     "output_type": "stream",
     "text": [
      "1\n",
      "2\n",
      "3\n",
      "4\n"
     ]
    }
   ],
   "source": [
    "class MyRange:\n",
    "    def __init__(self,current,end):\n",
    "        self.current=current\n",
    "        self.end=end\n",
    "    \n",
    "    def __iter__(self):\n",
    "        return self\n",
    "    \n",
    "    def __next__(self):\n",
    "        if self.current>=self.end:\n",
    "            raise StopIteration\n",
    "        else:\n",
    "            self.current+=1\n",
    "            return self.current-1\n",
    "for i in MyRange(1,5):\n",
    "    print(i)"
   ]
  },
  {
   "cell_type": "code",
   "execution_count": null,
   "metadata": {},
   "outputs": [],
   "source": [
    "def even_numbers(limit):\n",
    "    for i in range(limit + 1):\n",
    "        if i % 2 == 0:\n",
    "            yield i\n",
    "\n",
    "def squares(numbers):\n",
    "    for number in numbers:\n",
    "        yield number * number\n",
    "\n",
    "# Test\n",
    "even_gen = even_numbers(20)\n",
    "square_gen = squares(even_gen)\n",
    "for square in square_gen:\n",
    "    print(square)"
   ]
  },
  {
   "cell_type": "code",
   "execution_count": 7,
   "metadata": {},
   "outputs": [
    {
     "name": "stdout",
     "output_type": "stream",
     "text": [
      "Execution time: 0.0 seconds\n",
      "Execution time: 0.001005411148071289 seconds\n",
      "Execution time: 0.001005411148071289 seconds\n",
      "Execution time: 0.001005411148071289 seconds\n",
      "Execution time: 0.001005411148071289 seconds\n",
      "Execution time: 0.001005411148071289 seconds\n",
      "Execution time: 0.001005411148071289 seconds\n",
      "Execution time: 0.001005411148071289 seconds\n",
      "Execution time: 0.001005411148071289 seconds\n",
      "Execution time: 0.001005411148071289 seconds\n",
      "Execution time: 0.001005411148071289 seconds\n"
     ]
    },
    {
     "data": {
      "text/plain": [
       "1"
      ]
     },
     "execution_count": 7,
     "metadata": {},
     "output_type": "execute_result"
    }
   ],
   "source": [
    "import time\n",
    "def time_it(func):\n",
    "    def wrapper(*args,**kwargs):\n",
    "        start_time=time.time()\n",
    "        result=func(*args,**kwargs)\n",
    "        end_time=time.time()\n",
    "        print(f\"Execution time: {end_time - start_time} seconds\")\n",
    "        return result\n",
    "    return wrapper\n",
    "@time_it\n",
    "def factorial(n):\n",
    "    if n==0:\n",
    "        return 1\n",
    "    else:\n",
    "        return factorial(n-1)\n",
    "factorial(10)\n"
   ]
  },
  {
   "cell_type": "code",
   "execution_count": 13,
   "metadata": {},
   "outputs": [
    {
     "name": "stdout",
     "output_type": "stream",
     "text": [
      "connection established\n",
      "True\n"
     ]
    }
   ],
   "source": [
    "def singleton(cls):\n",
    "    instance={}\n",
    "    def get_instance(*args,**kwargs):\n",
    "        if cls not in instance:\n",
    "            instance[cls]=cls(*args,**kwargs)\n",
    "        return instance[cls]\n",
    "    return get_instance\n",
    "\n",
    "@singleton\n",
    "class DBconnection:\n",
    "    def __init__(self,name):\n",
    "        print(\"connection established\")\n",
    "\n",
    "db1=DBconnection(\"ankit\")\n",
    "db2=DBconnection(\"yadav\")\n",
    "print(db1 is db2)\n"
   ]
  },
  {
   "cell_type": "code",
   "execution_count": 14,
   "metadata": {},
   "outputs": [
    {
     "name": "stdout",
     "output_type": "stream",
     "text": [
      "connection established\n",
      "connection established\n",
      "False\n"
     ]
    }
   ],
   "source": [
    "def per_argument_singleton(cls):\n",
    "    instance = {}\n",
    "    def get_instance(*args):\n",
    "        if args not in instance:\n",
    "            instance[args] = cls(*args)\n",
    "        return instance[args]\n",
    "    return get_instance\n",
    "\n",
    "@per_argument_singleton\n",
    "class DBconnection:\n",
    "    def __init__(self, name):\n",
    "        print(\"connection established\")\n",
    "\n",
    "db1 = DBconnection(\"ankit\")\n",
    "db2 = DBconnection(\"yadav\")\n",
    "\n",
    "print(db1 is db2)"
   ]
  },
  {
   "cell_type": "code",
   "execution_count": 3,
   "metadata": {},
   "outputs": [
    {
     "name": "stdout",
     "output_type": "stream",
     "text": [
      "O\n",
      "L\n",
      "L\n",
      "E\n",
      "H\n"
     ]
    }
   ],
   "source": [
    "def uppercase(cls):\n",
    "    class wrapper(cls):\n",
    "        def __init__(self,*args,**kwargs):\n",
    "            super().__init__(*args,**kwargs)\n",
    "            self.data=self.data.upper()\n",
    "    return wrapper\n",
    "\n",
    "@uppercase\n",
    "class ReverseString:\n",
    "    def __init__(self,data):\n",
    "        self.data=data\n",
    "        self.index=len(data)\n",
    "    \n",
    "    def __iter__(self):\n",
    "        return self\n",
    "    \n",
    "    def __next__(self):\n",
    "        if self.index==0:\n",
    "            raise StopIteration\n",
    "        self.index-=1\n",
    "        return self.data[self.index]\n",
    "\n",
    "for char in ReverseString(\"hello\"):\n",
    "    print(char)"
   ]
  },
  {
   "cell_type": "code",
   "execution_count": 4,
   "metadata": {},
   "outputs": [
    {
     "name": "stdout",
     "output_type": "stream",
     "text": [
      "0\n",
      "1\n",
      "2\n",
      "3\n",
      "4\n",
      "5\n",
      "6\n",
      "7\n",
      "8\n",
      "9\n"
     ]
    }
   ],
   "source": [
    "def counter(start):\n",
    "    curr=start\n",
    "    while True:\n",
    "        yield curr\n",
    "        curr+=1\n",
    "\n",
    "c=counter(0)\n",
    "for _ in range(10):\n",
    "    print(next(c))"
   ]
  },
  {
   "cell_type": "code",
   "execution_count": 9,
   "metadata": {},
   "outputs": [],
   "source": [
    "def open_file(file_name, mode):\n",
    "    def decorator(func):\n",
    "        def wrapper(*args, **kwargs):\n",
    "            with open(file_name, mode) as file:\n",
    "                return func(file, *args, **kwargs)\n",
    "        return wrapper\n",
    "    return decorator\n",
    "\n",
    "@open_file('sample.txt', 'w')\n",
    "def write_to_file(file, text):\n",
    "    file.write(text)\n",
    "\n",
    "# Test\n",
    "write_to_file('Helloooooooooo, Worldddddddddddd!')"
   ]
  }
 ],
 "metadata": {
  "kernelspec": {
   "display_name": "base",
   "language": "python",
   "name": "python3"
  },
  "language_info": {
   "codemirror_mode": {
    "name": "ipython",
    "version": 3
   },
   "file_extension": ".py",
   "mimetype": "text/x-python",
   "name": "python",
   "nbconvert_exporter": "python",
   "pygments_lexer": "ipython3",
   "version": "3.12.7"
  }
 },
 "nbformat": 4,
 "nbformat_minor": 2
}
