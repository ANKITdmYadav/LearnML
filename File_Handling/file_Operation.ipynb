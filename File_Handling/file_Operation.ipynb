{
 "cells": [
  {
   "cell_type": "code",
   "execution_count": 8,
   "metadata": {},
   "outputs": [
    {
     "name": "stdout",
     "output_type": "stream",
     "text": [
      "How are you\n",
      "I am good\n",
      "My name is Ankit\n"
     ]
    }
   ],
   "source": [
    "with open('example.txt',mode='r') as file:\n",
    "    content=file.read()\n",
    "    print(content) \n",
    "    "
   ]
  },
  {
   "cell_type": "code",
   "execution_count": 10,
   "metadata": {},
   "outputs": [],
   "source": [
    "with open('example.txt','w') as file:\n",
    "    file.write(\"ankiet \\n\")"
   ]
  },
  {
   "cell_type": "code",
   "execution_count": 11,
   "metadata": {},
   "outputs": [],
   "source": [
    "with open('example.txt','a') as file:\n",
    "    file.write(\"yadav\")"
   ]
  },
  {
   "cell_type": "code",
   "execution_count": null,
   "metadata": {},
   "outputs": [],
   "source": []
  },
  {
   "cell_type": "code",
   "execution_count": 14,
   "metadata": {},
   "outputs": [
    {
     "name": "stdout",
     "output_type": "stream",
     "text": [
      "sultanpur\n",
      "Delhi \n",
      "\n"
     ]
    }
   ],
   "source": [
    "with open('example.txt','w+') as file:\n",
    "    file.write(\"sultanpur\\n\")\n",
    "    file.write(\"Delhi \\n\")\n",
    "\n",
    "    file.seek(0)\n",
    "    content=file.read()\n",
    "    print(content)"
   ]
  },
  {
   "cell_type": "code",
   "execution_count": 15,
   "metadata": {},
   "outputs": [],
   "source": [
    "data=b'\\x00\\x01\\x02\\x03\\x04'\n",
    "with open('example.bin','wb') as f:\n",
    "    f.write(data)\n",
    "    "
   ]
  },
  {
   "cell_type": "code",
   "execution_count": 1,
   "metadata": {},
   "outputs": [],
   "source": [
    "with open('example.txt','r') as f:\n",
    "    content=f.read()\n",
    "with open('dest.txt','w') as d:\n",
    "    d.write(content)\n",
    "    "
   ]
  },
  {
   "cell_type": "code",
   "execution_count": 5,
   "metadata": {},
   "outputs": [
    {
     "name": "stdout",
     "output_type": "stream",
     "text": [
      "sultanpur in Uttar Pradesh\n",
      "Delhi \n",
      "\n",
      "34\n"
     ]
    }
   ],
   "source": [
    "with open('example.txt','r') as f:\n",
    "    text=f.read()\n",
    "    print(text)\n",
    "    word=text.split()\n",
    "    print(len(word))\n",
    "    "
   ]
  },
  {
   "cell_type": "code",
   "execution_count": 15,
   "metadata": {},
   "outputs": [],
   "source": [
    "def replacing(filename,findd,replacee):\n",
    "    with open(filename,'r') as f:\n",
    "        text=f.read()\n",
    "    new_word=text.replace(findd,replacee)\n",
    "    with open(filename,'w') as f:\n",
    "        f.write(new_word)\n",
    "replacing('example.txt',\"in\",\"from\")\n",
    "        "
   ]
  },
  {
   "cell_type": "code",
   "execution_count": 20,
   "metadata": {},
   "outputs": [
    {
     "name": "stdout",
     "output_type": "stream",
     "text": [
      "['Delhi']\n",
      "['sultanpur', 'from', 'Uttar', 'Pradesh']\n"
     ]
    }
   ],
   "source": [
    "def reversef(filename):\n",
    "    with open(filename,'r') as f:\n",
    "        lines=f.readlines()\n",
    "    for line in reversed(lines):\n",
    "        print(line.split())\n",
    "reversef('example.txt')\n"
   ]
  },
  {
   "cell_type": "code",
   "execution_count": 33,
   "metadata": {},
   "outputs": [
    {
     "name": "stdout",
     "output_type": "stream",
     "text": [
      "{'sultanpur': 1, 'from': 1, 'Uttar': 1, 'Pradesh': 1, 'Delhi': 1}\n",
      "2\n"
     ]
    }
   ],
   "source": [
    "def stats(filename):\n",
    "    cntchar={}\n",
    "    cntw={}\n",
    "    cntline=0\n",
    "    with open(filename,'r') as f:\n",
    "        text=f.read()\n",
    "        # for c in text:\n",
    "        #     cntchar[c]=cntchar.get(c,0)+1\n",
    "        # print(cntchar)\n",
    "\n",
    "        words=text.split()\n",
    "        # print(words)\n",
    "        for w in words:\n",
    "            cntw[w]=cntw.get(w,0)+1\n",
    "        print(cntw)\n",
    "\n",
    "        f.seek(0)\n",
    "        cntline=f.readlines()      \n",
    "        # readlines() = number of  lines and readline() = number of char\n",
    "        print(len(cntline))     \n",
    "\n",
    "            \n",
    "stats('example.txt')\n"
   ]
  },
  {
   "cell_type": "code",
   "execution_count": 41,
   "metadata": {},
   "outputs": [],
   "source": [
    "def mergefile(file_list,outfile):\n",
    "    with open(outfile,'w') as ofile:\n",
    "        for fname in file_list:\n",
    "            with open(fname,'r') as ifile:\n",
    "                ofile.write(ifile.read()+'\\n')\n",
    "mergefile(['dest.txt','example.txt'],'rough2.txt')"
   ]
  },
  {
   "cell_type": "code",
   "execution_count": 20,
   "metadata": {},
   "outputs": [
    {
     "name": "stdout",
     "output_type": "stream",
     "text": [
      "2025-05-21T12:17:27.165110\n"
     ]
    }
   ],
   "source": [
    "import datetime\n",
    "timestamp=datetime.datetime.now().isoformat()\n",
    "print(timestamp)"
   ]
  }
 ],
 "metadata": {
  "kernelspec": {
   "display_name": "base",
   "language": "python",
   "name": "python3"
  },
  "language_info": {
   "codemirror_mode": {
    "name": "ipython",
    "version": 3
   },
   "file_extension": ".py",
   "mimetype": "text/x-python",
   "name": "python",
   "nbconvert_exporter": "python",
   "pygments_lexer": "ipython3",
   "version": "3.12.7"
  }
 },
 "nbformat": 4,
 "nbformat_minor": 2
}
