{
 "cells": [
  {
   "cell_type": "code",
   "execution_count": 1,
   "metadata": {},
   "outputs": [
    {
     "name": "stdout",
     "output_type": "stream",
     "text": [
      "Collecting bs4\n",
      "  Downloading bs4-0.0.2-py2.py3-none-any.whl.metadata (411 bytes)\n",
      "Requirement already satisfied: beautifulsoup4 in c:\\users\\ankit\\documents\\anaconda\\lib\\site-packages (from bs4) (4.12.3)\n",
      "Requirement already satisfied: soupsieve>1.2 in c:\\users\\ankit\\documents\\anaconda\\lib\\site-packages (from beautifulsoup4->bs4) (2.5)\n",
      "Downloading bs4-0.0.2-py2.py3-none-any.whl (1.2 kB)\n",
      "Installing collected packages: bs4\n",
      "Successfully installed bs4-0.0.2\n"
     ]
    }
   ],
   "source": [
    "import sqlite3\n",
    "!pip install bs4\n",
    "\n"
   ]
  },
  {
   "cell_type": "code",
   "execution_count": 3,
   "metadata": {},
   "outputs": [
    {
     "name": "stdout",
     "output_type": "stream",
     "text": [
      "Table 'employees' created successfully.\n"
     ]
    }
   ],
   "source": [
    "def create_table():\n",
    "    conn = sqlite3.connect('test.db')\n",
    "    cursor = conn.cursor()\n",
    "    cursor.execute('''\n",
    "        CREATE TABLE IF NOT EXISTS employees (\n",
    "            id INTEGER PRIMARY KEY,\n",
    "            name TEXT NOT NULL,\n",
    "            age INTEGER,\n",
    "            department TEXT\n",
    "        )\n",
    "    ''')\n",
    "    conn.commit()\n",
    "    conn.close()\n",
    "    print(\"Table 'employees' created successfully.\")\n",
    "\n",
    "# Test the function\n",
    "create_table()"
   ]
  },
  {
   "cell_type": "code",
   "execution_count": 4,
   "metadata": {},
   "outputs": [
    {
     "name": "stdout",
     "output_type": "stream",
     "text": [
      "Employee inserted successfully.\n",
      "Employee inserted successfully.\n",
      "Employee inserted successfully.\n",
      "Employee inserted successfully.\n",
      "Employee inserted successfully.\n"
     ]
    }
   ],
   "source": [
    "def insert_employee(id, name, age, department):\n",
    "    conn = sqlite3.connect('test.db')\n",
    "    cursor = conn.cursor()\n",
    "    cursor.execute('''\n",
    "        INSERT INTO employees (id, name, age, department)\n",
    "        VALUES (?, ?, ?, ?)\n",
    "    ''', (id, name, age, department))\n",
    "    conn.commit()\n",
    "    conn.close()\n",
    "    print(\"Employee inserted successfully.\")\n",
    "\n",
    "# Test the function\n",
    "insert_employee(1, 'Alice', 30, 'HR')\n",
    "insert_employee(2, 'Bob', 25, 'Engineering')\n",
    "insert_employee(3, 'Charlie', 28, 'Sales')\n",
    "insert_employee(4, 'David', 35, 'Marketing')\n",
    "insert_employee(5, 'Eve', 22, 'HR')"
   ]
  },
  {
   "cell_type": "code",
   "execution_count": 6,
   "metadata": {},
   "outputs": [
    {
     "name": "stdout",
     "output_type": "stream",
     "text": [
      "(1, 'Alice', 30, 'HR')\n",
      "(3, 'Charlie', 28, 'Sales')\n",
      "(4, 'David', 35, 'Marketing')\n",
      "(5, 'Eve', 22, 'HR')\n"
     ]
    }
   ],
   "source": [
    "conn=sqlite3.connect('test.db')\n",
    "cursor=conn.cursor()\n",
    "cursor.execute('SELECT * FROM employees')\n",
    "rec=cursor.fetchall()\n",
    "conn.commit()\n",
    "conn.close()\n",
    "for r in rec:\n",
    "    print(r)"
   ]
  },
  {
   "cell_type": "code",
   "execution_count": 24,
   "metadata": {},
   "outputs": [
    {
     "name": "stdout",
     "output_type": "stream",
     "text": [
      "(5, 'Eve', 22, 'HR')\n"
     ]
    }
   ],
   "source": [
    "def fetch_employees_by_department(department):\n",
    "    conn=sqlite3.connect('test.db')\n",
    "    cursor=conn.cursor()\n",
    "    cursor.execute('SELECT * FROM employees WHERE department=?',(department,))\n",
    "    rec=cursor.fetchall()\n",
    "    conn.commit()\n",
    "    conn.close()\n",
    "    for r in rec:\n",
    "        print(r)\n",
    "\n",
    "fetch_employees_by_department('HR')\n",
    "                   \n"
   ]
  },
  {
   "cell_type": "code",
   "execution_count": 25,
   "metadata": {},
   "outputs": [
    {
     "ename": "OperationalError",
     "evalue": "database is locked",
     "output_type": "error",
     "traceback": [
      "\u001b[1;31m---------------------------------------------------------------------------\u001b[0m",
      "\u001b[1;31mOperationalError\u001b[0m                          Traceback (most recent call last)",
      "Cell \u001b[1;32mIn[25], line 14\u001b[0m\n\u001b[0;32m     11\u001b[0m     conn\u001b[38;5;241m.\u001b[39mcommit()\n\u001b[0;32m     12\u001b[0m     conn\u001b[38;5;241m.\u001b[39mclose()\n\u001b[1;32m---> 14\u001b[0m update_employee_department(\u001b[38;5;241m1\u001b[39m,\u001b[38;5;124m'\u001b[39m\u001b[38;5;124mHR\u001b[39m\u001b[38;5;124m'\u001b[39m)\n",
      "Cell \u001b[1;32mIn[25], line 4\u001b[0m, in \u001b[0;36mupdate_employee_department\u001b[1;34m(employee_id, new_department)\u001b[0m\n\u001b[0;32m      2\u001b[0m     conn\u001b[38;5;241m=\u001b[39msqlite3\u001b[38;5;241m.\u001b[39mconnect(\u001b[38;5;124m'\u001b[39m\u001b[38;5;124mtest.db\u001b[39m\u001b[38;5;124m'\u001b[39m)\n\u001b[0;32m      3\u001b[0m     cursor\u001b[38;5;241m=\u001b[39mconn\u001b[38;5;241m.\u001b[39mcursor()\n\u001b[1;32m----> 4\u001b[0m     cursor\u001b[38;5;241m.\u001b[39mexecute(\n\u001b[0;32m      5\u001b[0m \u001b[38;5;250m        \u001b[39m\u001b[38;5;124;03m''' \u001b[39;00m\n\u001b[0;32m      6\u001b[0m \u001b[38;5;124;03m        UPDATE employees\u001b[39;00m\n\u001b[0;32m      7\u001b[0m \u001b[38;5;124;03m        SET department=?\u001b[39;00m\n\u001b[0;32m      8\u001b[0m \u001b[38;5;124;03m        WHERE id=?\u001b[39;00m\n\u001b[0;32m      9\u001b[0m \u001b[38;5;124;03m'''\u001b[39;00m,(new_department,employee_id)\n\u001b[0;32m     10\u001b[0m     )\n\u001b[0;32m     11\u001b[0m     conn\u001b[38;5;241m.\u001b[39mcommit()\n\u001b[0;32m     12\u001b[0m     conn\u001b[38;5;241m.\u001b[39mclose()\n",
      "\u001b[1;31mOperationalError\u001b[0m: database is locked"
     ]
    }
   ],
   "source": [
    "def update_employee_department(employee_id, new_department):\n",
    "    conn=sqlite3.connect('test.db')\n",
    "    cursor=conn.cursor()\n",
    "    cursor.execute(\n",
    "        ''' \n",
    "        UPDATE employees\n",
    "        SET department=?\n",
    "        WHERE id=?\n",
    "''',(new_department,employee_id)\n",
    "    )\n",
    "    conn.commit()\n",
    "    conn.close()\n",
    "\n",
    "update_employee_department(1,'HR')\n"
   ]
  },
  {
   "cell_type": "code",
   "execution_count": 5,
   "metadata": {},
   "outputs": [],
   "source": [
    "employ_id=3\n",
    "conn=sqlite3.connect('test.db')\n",
    "cursor=conn.cursor()\n",
    "cursor.execute('''\n",
    "    DELETE FROM employees WHERE id=2\n",
    "''')\n",
    "conn.commit()\n",
    "cursor.close()"
   ]
  },
  {
   "cell_type": "code",
   "execution_count": null,
   "metadata": {},
   "outputs": [],
   "source": []
  },
  {
   "cell_type": "code",
   "execution_count": null,
   "metadata": {},
   "outputs": [],
   "source": []
  },
  {
   "cell_type": "code",
   "execution_count": null,
   "metadata": {},
   "outputs": [],
   "source": []
  },
  {
   "cell_type": "code",
   "execution_count": null,
   "metadata": {},
   "outputs": [],
   "source": []
  },
  {
   "cell_type": "code",
   "execution_count": null,
   "metadata": {},
   "outputs": [],
   "source": []
  }
 ],
 "metadata": {
  "kernelspec": {
   "display_name": "base",
   "language": "python",
   "name": "python3"
  },
  "language_info": {
   "codemirror_mode": {
    "name": "ipython",
    "version": 3
   },
   "file_extension": ".py",
   "mimetype": "text/x-python",
   "name": "python",
   "nbconvert_exporter": "python",
   "pygments_lexer": "ipython3",
   "version": "3.12.7"
  }
 },
 "nbformat": 4,
 "nbformat_minor": 2
}
