{
 "cells": [
  {
   "cell_type": "code",
   "execution_count": 33,
   "metadata": {},
   "outputs": [],
   "source": [
    "import sqlite3\n",
    "connection=sqlite3.connect('example.db')\n",
    "\n",
    "cursor=connection.cursor()\n",
    "\n",
    "\n"
   ]
  },
  {
   "cell_type": "code",
   "execution_count": 63,
   "metadata": {},
   "outputs": [
    {
     "name": "stdout",
     "output_type": "stream",
     "text": [
      "(1, 'Ankit', 23, 'CSE')\n",
      "(2, 'Vaishu', 22, 'CSE')\n"
     ]
    }
   ],
   "source": [
    "cursor.execute('''\n",
    "    CREATE TABLE IF NOT EXISTS employees(\n",
    "        id INTEGER PRIMARY KEY,\n",
    "        name TEXT NOT NULL,\n",
    "        age INTEGER,\n",
    "        department TEXT \n",
    "    )\n",
    "''')\n",
    "\n",
    "cursor.execute('''\n",
    "    INSERT INTO employees(name,age,department)\n",
    "            VALUES('Ankit','23','CSE'),\n",
    "            ('Vaishu',22,'CSE')\n",
    "''')\n",
    "connection.commit()\n",
    "cursor.execute('''\n",
    "    SELECT * FROM employees\n",
    "''')\n",
    "\n",
    "rows=cursor.fetchall()\n",
    "for row in rows:\n",
    "    print(row)\n",
    "\n"
   ]
  },
  {
   "cell_type": "code",
   "execution_count": 62,
   "metadata": {},
   "outputs": [],
   "source": [
    "cursor.execute(\"DELETE FROM employees\")\n",
    "cursor.execute('''\n",
    "    SELECT * FROM employees\n",
    "''')\n",
    "\n",
    "rows=cursor.fetchall()\n",
    "for row in rows:\n",
    "    print(row)\n"
   ]
  },
  {
   "cell_type": "code",
   "execution_count": 41,
   "metadata": {},
   "outputs": [],
   "source": []
  }
 ],
 "metadata": {
  "kernelspec": {
   "display_name": "base",
   "language": "python",
   "name": "python3"
  },
  "language_info": {
   "codemirror_mode": {
    "name": "ipython",
    "version": 3
   },
   "file_extension": ".py",
   "mimetype": "text/x-python",
   "name": "python",
   "nbconvert_exporter": "python",
   "pygments_lexer": "ipython3",
   "version": "3.12.7"
  }
 },
 "nbformat": 4,
 "nbformat_minor": 2
}
