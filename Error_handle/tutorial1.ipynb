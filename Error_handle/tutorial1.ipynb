{
 "cells": [
  {
   "cell_type": "code",
   "execution_count": 4,
   "metadata": {},
   "outputs": [
    {
     "name": "stdout",
     "output_type": "stream",
     "text": [
      "name 'b' is not defined\n"
     ]
    }
   ],
   "source": [
    "try:\n",
    "    a=b\n",
    "except NameError as err:\n",
    "    print(err)"
   ]
  },
  {
   "cell_type": "code",
   "execution_count": 7,
   "metadata": {},
   "outputs": [
    {
     "name": "stdout",
     "output_type": "stream",
     "text": [
      "name 'b' is not defined\n"
     ]
    }
   ],
   "source": [
    "try:\n",
    "    # 10/0\n",
    "    a=b\n",
    "except ZeroDivisionError as er:\n",
    "    print(er)\n",
    "except NameError as err:\n",
    "    print(err)"
   ]
  },
  {
   "cell_type": "code",
   "execution_count": 11,
   "metadata": {},
   "outputs": [
    {
     "name": "stdout",
     "output_type": "stream",
     "text": [
      "Conversion errormpt: invalid literal for int() with base 10: 's'\n",
      "attempt complete. \n",
      "Overall Done\n"
     ]
    }
   ],
   "source": [
    "def nested_exception_handling(s):\n",
    "    try:\n",
    "        try:\n",
    "            num=int(s)\n",
    "        except ValueError as e:\n",
    "            print(f\"Conversion errormpt: {e}\")\n",
    "            num=None\n",
    "        finally:\n",
    "            print(\"attempt complete. \")\n",
    "        if num is not None:\n",
    "            try:\n",
    "                10/num\n",
    "            except ZeroDivisionError as ze:\n",
    "                print(ze)\n",
    "            finally:\n",
    "                print(\"divisiono complete\")\n",
    "    finally:\n",
    "        print(\"Overall Done\")\n",
    "nested_exception_handling('s')\n",
    "\n"
   ]
  },
  {
   "cell_type": "code",
   "execution_count": 15,
   "metadata": {},
   "outputs": [
    {
     "name": "stdout",
     "output_type": "stream",
     "text": [
      "list index out of range\n",
      "completed \n"
     ]
    }
   ],
   "source": [
    "def get_list_element(lst, index):\n",
    "    try:\n",
    "        element=lst[index]\n",
    "        print(element)\n",
    "    except IndexError as ex:\n",
    "        print(ex)\n",
    "        element=None\n",
    "    finally:\n",
    "        print(\"completed \")\n",
    "    return element\n",
    "get_list_element([2,3,45,6,1,12,6],9)\n"
   ]
  },
  {
   "cell_type": "code",
   "execution_count": null,
   "metadata": {},
   "outputs": [],
   "source": [
    "import requests\n",
    "\n",
    "def read_url(url):\n",
    "    try:\n",
    "        response=requests.get(url)\n",
    "        response.raise_for_status()\n",
    "        return response.text\n",
    "    except requests.RequestException as e:\n",
    "        print(f\"Network error :\"{e})\n",
    "        return None\n",
    "    finally:\n",
    "        print(\"completed\")"
   ]
  },
  {
   "cell_type": "code",
   "execution_count": 23,
   "metadata": {},
   "outputs": [
    {
     "name": "stdout",
     "output_type": "stream",
     "text": [
      "Errorum: negative number encountered\n",
      "execution completed\n"
     ]
    }
   ],
   "source": [
    "class NegativeNumberError(Exception):\n",
    "    pass\n",
    "def chk_neg(lst):\n",
    "    try:\n",
    "        for i in lst:\n",
    "            if i<0:\n",
    "                raise NegativeNumberError(\"negative number encountered\")\n",
    "    except NegativeNumberError as e:\n",
    "        print(f\"Errorum: {e}\")\n",
    "    except TypeError as e:\n",
    "        print(f\"Errorum: {e}\")\n",
    "    finally:\n",
    "        print(\"execution completed\")\n",
    "chk_neg([-5])\n"
   ]
  },
  {
   "cell_type": "code",
   "execution_count": 27,
   "metadata": {},
   "outputs": [
    {
     "name": "stdout",
     "output_type": "stream",
     "text": [
      "Error anky error\n"
     ]
    }
   ],
   "source": [
    "def risky():\n",
    "    raise ValueError(\"anky error\")\n",
    "def safe():\n",
    "    try:\n",
    "        risky()\n",
    "    except ValueError as e:\n",
    "        print(f\"Error {e}\")\n",
    "safe()"
   ]
  },
  {
   "cell_type": "code",
   "execution_count": null,
   "metadata": {},
   "outputs": [],
   "source": [
    "class Calculator:\n",
    "    def division(a,b):\n",
    "        try:\n",
    "            result=a/b\n",
    "        except ZeroDivisionError as e:\n",
    "            print(f\"anky{e}\")\n",
    "            result=None\n",
    "        finally:\n",
    "            print(\"execution completed\")\n",
    "        return result"
   ]
  },
  {
   "cell_type": "code",
   "execution_count": null,
   "metadata": {},
   "outputs": [],
   "source": [
    "def conv(lst):\n",
    "    integer=[]\n",
    "    try:\n",
    "        for i in lst:\n",
    "            integer.append(int(i))\n",
    "    except TypeError as e:\n",
    "        print(f\"anky{t}\")\n",
    "        integer=None\n",
    "    finally:\n",
    "        print(\"completed.\")\n",
    "    return integer"
   ]
  },
  {
   "cell_type": "code",
   "execution_count": 28,
   "metadata": {},
   "outputs": [],
   "source": [
    "def write_file(strings,filename):\n",
    "    try:\n",
    "        with open(filename,'w') as f:\n",
    "            for s in strings:\n",
    "                f.write(s + '\\n')\n",
    "    except IOError as e:\n",
    "        print(f\"anky: {e}\")\n",
    "    finally:\n",
    "        if f in locals() or not f.closed():\n",
    "            f.close()\n",
    "            print(\"file closed\")"
   ]
  }
 ],
 "metadata": {
  "kernelspec": {
   "display_name": "base",
   "language": "python",
   "name": "python3"
  },
  "language_info": {
   "codemirror_mode": {
    "name": "ipython",
    "version": 3
   },
   "file_extension": ".py",
   "mimetype": "text/x-python",
   "name": "python",
   "nbconvert_exporter": "python",
   "pygments_lexer": "ipython3",
   "version": "3.12.7"
  }
 },
 "nbformat": 4,
 "nbformat_minor": 2
}
