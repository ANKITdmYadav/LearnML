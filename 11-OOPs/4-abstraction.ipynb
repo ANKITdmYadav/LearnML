{
    "cells": [
        {
            "cell_type": "code",
            "execution_count": 4,
            "metadata": {},
            "outputs": [
                {
                    "name": "stdout",
                    "output_type": "stream",
                    "text": [
                        "start the car\n",
                        "drive the vehicle\n"
                    ]
                }
            ],
            "source": [
                "from abc import ABC,abstractmethod\n",
                "\n",
                "class vehicle(ABC):\n",
                "    @abstractmethod\n",
                "    def start_engine(self):\n",
                "        pass\n",
                "    def drive(self):\n",
                "        print(\"drive the vehicle\")\n",
                "\n",
                "class Car(vehicle):\n",
                "    def start_engine(self):\n",
                "        return \"start the car\"\n",
                "    \n",
                "def operate(vehicle):\n",
                "    print(vehicle.start_engine())\n",
                "    vehicle.drive()\n",
                "\n",
                "car=Car()\n",
                "operate(car)"
            ]
        }
    ],
    "metadata": {
        "kernelspec": {
            "display_name": "base",
            "language": "python",
            "name": "python3"
        },
        "language_info": {
            "codemirror_mode": {
                "name": "ipython",
                "version": 3
            },
            "file_extension": ".py",
            "mimetype": "text/x-python",
            "name": "python",
            "nbconvert_exporter": "python",
            "pygments_lexer": "ipython3",
            "version": "3.12.7"
        }
    },
    "nbformat": 4,
    "nbformat_minor": 2
}
