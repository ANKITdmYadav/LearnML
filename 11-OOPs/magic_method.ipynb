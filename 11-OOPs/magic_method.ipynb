{
 "cells": [
  {
   "cell_type": "code",
   "execution_count": 14,
   "metadata": {},
   "outputs": [
    {
     "name": "stdout",
     "output_type": "stream",
     "text": [
      "78.53981633974483\n",
      "25\n",
      "repr is called here \n"
     ]
    }
   ],
   "source": [
    "import math\n",
    "\n",
    "class Shape:\n",
    "    def area(self):\n",
    "        pass\n",
    "    def __str__(self):\n",
    "        return f\"inside shape is called here \" \n",
    "\n",
    "class Circle(Shape):\n",
    "    def __init__(self, radius):\n",
    "        self.radius = radius\n",
    "\n",
    "    def area(self):\n",
    "        return math.pi * self.radius ** 2\n",
    "\n",
    "    def __repr__(self):\n",
    "        return f\"repr is called here \" \n",
    "       \n",
    "    \n",
    "\n",
    "class Square(Shape):\n",
    "    def __init__(self, side):\n",
    "        self.side = side\n",
    "\n",
    "    def area(self):\n",
    "        return self.side ** 2\n",
    "def desc_shape(Shape):\n",
    "    print(Shape.area())\n",
    "\n",
    "c=Circle(5)\n",
    "s=Square(5)\n",
    "desc_shape(c)\n",
    "desc_shape(s)\n",
    "print(repr(c))\n",
    "\n",
    "\n"
   ]
  },
  {
   "cell_type": "code",
   "execution_count": 16,
   "metadata": {},
   "outputs": [
    {
     "name": "stdout",
     "output_type": "stream",
     "text": [
      "No of items are 4\n",
      "4\n"
     ]
    }
   ],
   "source": [
    "class Basket:\n",
    "    def __init__(self,item):\n",
    "        self.item=item\n",
    "        # print(f\"No of items are {len(self.item)}\") why why why \n",
    "    def __len__(self):\n",
    "        return len(self.item)\n",
    "b=Basket(['apple','mango','banana','pineApple'])\n",
    "print(len(b))"
   ]
  },
  {
   "cell_type": "code",
   "execution_count": 24,
   "metadata": {},
   "outputs": [
    {
     "ename": "TypeError",
     "evalue": "unsupported operand type(s) for +: 'complexNum' and 'complexNum'",
     "output_type": "error",
     "traceback": [
      "\u001b[1;31m---------------------------------------------------------------------------\u001b[0m",
      "\u001b[1;31mTypeError\u001b[0m                                 Traceback (most recent call last)",
      "Cell \u001b[1;32mIn[24], line 12\u001b[0m\n\u001b[0;32m     10\u001b[0m c1\u001b[38;5;241m=\u001b[39mcomplexNum(\u001b[38;5;241m2\u001b[39m,\u001b[38;5;241m5\u001b[39m)\n\u001b[0;32m     11\u001b[0m c2\u001b[38;5;241m=\u001b[39mcomplexNum(\u001b[38;5;241m6\u001b[39m,\u001b[38;5;241m4\u001b[39m)\n\u001b[1;32m---> 12\u001b[0m \u001b[38;5;28mprint\u001b[39m(c1\u001b[38;5;241m+\u001b[39mc2)\n",
      "\u001b[1;31mTypeError\u001b[0m: unsupported operand type(s) for +: 'complexNum' and 'complexNum'"
     ]
    }
   ],
   "source": [
    "class complexNum:\n",
    "    def __init__(self,n1,n2):\n",
    "        self.n1=n1\n",
    "        self.n2=n2\n",
    "    \n",
    "    def __add__(self,other):\n",
    "        return self.n1+other.n1,self.n2+other.n2\n",
    "    \n",
    "    \n",
    "c1=complexNum(2,5)\n",
    "c2=complexNum(6,4)\n",
    "print(c1+c2)"
   ]
  }
 ],
 "metadata": {
  "kernelspec": {
   "display_name": "base",
   "language": "python",
   "name": "python3"
  },
  "language_info": {
   "codemirror_mode": {
    "name": "ipython",
    "version": 3
   },
   "file_extension": ".py",
   "mimetype": "text/x-python",
   "name": "python",
   "nbconvert_exporter": "python",
   "pygments_lexer": "ipython3",
   "version": "3.12.7"
  }
 },
 "nbformat": 4,
 "nbformat_minor": 2
}
