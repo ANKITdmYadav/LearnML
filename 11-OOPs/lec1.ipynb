{
 "cells": [
  {
   "cell_type": "code",
   "execution_count": 6,
   "metadata": {},
   "outputs": [
    {
     "name": "stdout",
     "output_type": "stream",
     "text": [
      "remaining balance 55000\n",
      "Your updated balance is 145000\n"
     ]
    }
   ],
   "source": [
    "class bank:\n",
    "    def __init__(self,owner,bal=0):\n",
    "        self.owner=owner\n",
    "        self.bal=bal\n",
    "    \n",
    "    def deposit(self,amt):\n",
    "        self.bal+=amt\n",
    "        print(f\"Your updated balance is {self.bal}\")\n",
    "\n",
    "    def withdraw(self,amt):\n",
    "        if self.bal<amt:\n",
    "            print(\"low balance\")\n",
    "        else:\n",
    "            self.bal=self.bal-amt\n",
    "            print(f\"remaining balance {self.bal}\")\n",
    "    def acc_bal(self):\n",
    "        print(f\"Balance is {self.bal}\")\n",
    "\n",
    "User1=bank(\"ankit\",90000)\n",
    "User1.withdraw(35000)\n",
    "# User1.acc_bal()\n",
    "User1.deposit(90000)\n",
    "\n",
    "\n",
    "        "
   ]
  },
  {
   "cell_type": "code",
   "execution_count": 39,
   "metadata": {},
   "outputs": [
    {
     "name": "stdout",
     "output_type": "stream",
     "text": [
      "name is ankit and age is : 24\n",
      "name is ankit and age is : 24 and country is : Pennsylvania\n"
     ]
    }
   ],
   "source": [
    "#--------------------------ENCAPSULATION------------------\n",
    "# private and protected and Inheritence\n",
    "class Person:\n",
    "    def __init__(self,name,age,gender):\n",
    "        self._name=name\n",
    "        self.age=age\n",
    "        self.gender=gender\n",
    "        \n",
    "\n",
    "class Country(Person):\n",
    "    def __init__(self,name,age,gender,country,city):\n",
    "        super().__init__(name,age,gender)\n",
    "        self.country=country\n",
    "        self.city=city\n",
    "    def info(self):\n",
    "        print(f\"name is {self._name} and age is : {self.age}\")\n",
    "\n",
    "def outfunc(Country):\n",
    "    print(f\"name is {Country._name} and age is : {Country.age} and country is : {Country.country}\")\n",
    "\n",
    "    \n",
    "\n",
    "# p0=Person(\"Dm\",24,\"male\")\n",
    "p1=Country(\"ankit\",24,\"male\",\"Pennsylvania\",\"Newbost\")\n",
    "p1.info()\n",
    "outfunc(p1)\n",
    "# dir(Person)\n"
   ]
  },
  {
   "cell_type": "code",
   "execution_count": 46,
   "metadata": {},
   "outputs": [
    {
     "data": {
      "text/plain": [
       "'ankit'"
      ]
     },
     "execution_count": 46,
     "metadata": {},
     "output_type": "execute_result"
    }
   ],
   "source": [
    "class Person:\n",
    "    def __init__(self,name,age,gender):\n",
    "        self.__name=name\n",
    "        self.age=age\n",
    "        self.gender=gender\n",
    "    def get_name(self):\n",
    "        return self.__name\n",
    "    def set_name(self,name):\n",
    "        self.__name=name\n",
    "\n",
    "p0=Person(\"Dm\",24,\"male\")\n",
    "p0.get_name()\n",
    "p0.set_name(\"ankit\")\n",
    "p0.get_name()\n",
    "# Two times get name() written but it will print only once\n"
   ]
  }
 ],
 "metadata": {
  "kernelspec": {
   "display_name": "base",
   "language": "python",
   "name": "python3"
  },
  "language_info": {
   "codemirror_mode": {
    "name": "ipython",
    "version": 3
   },
   "file_extension": ".py",
   "mimetype": "text/x-python",
   "name": "python",
   "nbconvert_exporter": "python",
   "pygments_lexer": "ipython3",
   "version": "3.12.7"
  }
 },
 "nbformat": 4,
 "nbformat_minor": 2
}
