{
 "cells": [
  {
   "cell_type": "code",
   "execution_count": 1,
   "metadata": {},
   "outputs": [
    {
     "name": "stdout",
     "output_type": "stream",
     "text": [
      "2\n"
     ]
    }
   ],
   "source": [
    "import sys\n",
    "a=[]\n",
    "print(sys.getrefcount(a))\n"
   ]
  },
  {
   "cell_type": "code",
   "execution_count": 11,
   "metadata": {},
   "outputs": [
    {
     "name": "stdout",
     "output_type": "stream",
     "text": [
      "3\n",
      "True\n"
     ]
    }
   ],
   "source": [
    "b=a\n",
    "print(sys.getrefcount(b))\n",
    "print(a is b)"
   ]
  },
  {
   "cell_type": "code",
   "execution_count": 5,
   "metadata": {},
   "outputs": [],
   "source": [
    "import gc\n",
    "gc.enable()\n",
    "gc.disable()\n"
   ]
  },
  {
   "cell_type": "code",
   "execution_count": 28,
   "metadata": {},
   "outputs": [
    {
     "data": {
      "text/plain": [
       "[{'collections': 179, 'collected': 1487, 'uncollectable': 0},\n",
       " {'collections': 16, 'collected': 140, 'uncollectable': 0},\n",
       " {'collections': 23, 'collected': 280, 'uncollectable': 0}]"
      ]
     },
     "execution_count": 28,
     "metadata": {},
     "output_type": "execute_result"
    }
   ],
   "source": [
    "gc.collect()\n",
    "gc.get_stats()"
   ]
  },
  {
   "cell_type": "code",
   "execution_count": 37,
   "metadata": {},
   "outputs": [
    {
     "name": "stdout",
     "output_type": "stream",
     "text": [
      "tracemalloc is tracing<built-in function is_tracing>\n",
      "[Top 10]\n",
      "C:\\Users\\ankit\\AppData\\Local\\Temp\\ipykernel_3644\\4074843258.py:3: size=388 KiB, count=9744, average=41 B\n",
      "c:\\Users\\ankit\\anaconda3\\Lib\\site-packages\\ipykernel\\iostream.py:556: size=160 B, count=1, average=160 B\n",
      "c:\\Users\\ankit\\anaconda3\\Lib\\site-packages\\ipykernel\\iostream.py:652: size=119 B, count=1, average=119 B\n",
      "C:\\Users\\ankit\\AppData\\Local\\Temp\\ipykernel_3644\\4074843258.py:2: size=72 B, count=1, average=72 B\n",
      "c:\\Users\\ankit\\anaconda3\\Lib\\site-packages\\ipykernel\\iostream.py:662: size=40 B, count=1, average=40 B\n"
     ]
    }
   ],
   "source": [
    "import tracemalloc\n",
    "def create_list():\n",
    "    return [i for i in range(10000)]\n",
    "\n",
    "def main():\n",
    "    tracemalloc.start()\n",
    "    print(f\"tracemalloc is tracing{tracemalloc.is_tracing}\")\n",
    "    ss=create_list()\n",
    "    snapshot=tracemalloc.take_snapshot()\n",
    "    top_stats=snapshot.statistics('lineno')\n",
    "    print(\"[Top 10]\")\n",
    "    for stat in top_stats[:10]:\n",
    "        print(stat)\n",
    "    tracemalloc.stop()\n",
    "main()"
   ]
  },
  {
   "cell_type": "code",
   "execution_count": null,
   "metadata": {},
   "outputs": [],
   "source": []
  }
 ],
 "metadata": {
  "kernelspec": {
   "display_name": "base",
   "language": "python",
   "name": "python3"
  },
  "language_info": {
   "codemirror_mode": {
    "name": "ipython",
    "version": 3
   },
   "file_extension": ".py",
   "mimetype": "text/x-python",
   "name": "python",
   "nbconvert_exporter": "python",
   "pygments_lexer": "ipython3",
   "version": "3.12.7"
  }
 },
 "nbformat": 4,
 "nbformat_minor": 2
}
