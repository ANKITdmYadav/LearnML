{
 "cells": [
  {
   "cell_type": "code",
   "execution_count": null,
   "metadata": {},
   "outputs": [],
   "source": [
    "import pandas as pd\n",
    "df=pd.read_csv('data.csv')\n",
    "# df.head(5)\n",
    "df.tail(5)\n",
    "df.describe()\n",
    "df.isnull()\n",
    "df.isnull().any()\n",
    "df.isnull().any(axis=1)\n",
    "df.drop(0,inplace=True)\n",
    "dff=df.fillna(0)\n",
    "df['Sales_filled_NA']=df['Sales'].fillna(df['Sales'].mean())\n",
    "# not working rename\n",
    "df.rename({'Date':'OrderDate'})     \n",
    "print(df)\n"
   ]
  },
  {
   "cell_type": "code",
   "execution_count": null,
   "metadata": {},
   "outputs": [],
   "source": [
    "df.dtypes\n",
    "print(df)\n"
   ]
  },
  {
   "cell_type": "code",
   "execution_count": null,
   "metadata": {},
   "outputs": [],
   "source": [
    "df.rename({'Date':'OrderDate'})\n",
    "print(df)"
   ]
  },
  {
   "cell_type": "code",
   "execution_count": null,
   "metadata": {},
   "outputs": [],
   "source": []
  },
  {
   "cell_type": "code",
   "execution_count": null,
   "metadata": {},
   "outputs": [],
   "source": []
  },
  {
   "cell_type": "code",
   "execution_count": 3,
   "metadata": {},
   "outputs": [
    {
     "name": "stdout",
     "output_type": "stream",
     "text": [
      "          Date   Product  Sales Region  newSales\n",
      "0   2023-01-01  Product3  738.0   West     738.0\n",
      "1   2023-01-02  Product2  868.0  North     868.0\n",
      "2   2023-01-03  Product2  554.0   West     554.0\n",
      "3   2023-01-04  Product1  618.0  South     618.0\n",
      "4   2023-01-05  Product3  501.0   East     501.0\n",
      "5   2023-01-06  Product1    NaN   West     554.0\n",
      "6   2023-01-07  Product3  339.0  South     339.0\n",
      "7   2023-01-08  Product3  280.0  South     280.0\n",
      "8   2023-01-09  Product2  806.0  North     806.0\n",
      "9   2023-01-10  Product2  816.0  South     816.0\n",
      "10  2023-01-11  Product3  469.0   West     469.0\n",
      "11  2023-01-12  Product3    NaN   East     554.0\n",
      "12  2023-01-13  Product3    NaN   East     554.0\n",
      "13  2023-01-14  Product3  676.0   East     676.0\n",
      "14  2023-01-15  Product1  183.0  South     183.0\n",
      "15  2023-01-16  Product1  424.0  South     424.0\n",
      "16  2023-01-17  Product1    NaN  South     554.0\n",
      "17  2023-01-18  Product1    NaN  South     554.0\n",
      "18  2023-01-19  Product2  124.0  North     124.0\n",
      "19  2023-01-20  Product3  732.0   West     732.0\n",
      "20  2023-01-21  Product2    NaN   West     554.0\n",
      "21  2023-01-22  Product3  296.0   West     296.0\n",
      "22  2023-01-23  Product2  737.0   West     737.0\n",
      "23  2023-01-24  Product3  531.0   East     531.0\n",
      "24  2023-01-25  Product2  834.0  North     834.0\n"
     ]
    }
   ],
   "source": [
    "df2=pd.read_csv('sales1_data.csv')\n",
    "df2.rename(columns={'Date':'None'})\n",
    "df2['newSales']=df2['Sales'].fillna(df2['Sales'].mean())\n",
    "print(df2)\n",
    "\n"
   ]
  },
  {
   "cell_type": "code",
   "execution_count": null,
   "metadata": {},
   "outputs": [],
   "source": [
    "df2['square_Sales']=df2['Sales'].apply(lambda x:x**2)\n",
    "print(df2)"
   ]
  },
  {
   "cell_type": "code",
   "execution_count": 68,
   "metadata": {},
   "outputs": [
    {
     "name": "stdout",
     "output_type": "stream",
     "text": [
      "Product   Region\n",
      "Product1  East      44.000000\n",
      "          North      4.500000\n",
      "          South     50.000000\n",
      "          West      82.000000\n",
      "Product2  East      28.000000\n",
      "          North     63.500000\n",
      "          South     60.333333\n",
      "          West      53.500000\n",
      "Product3  East      50.500000\n",
      "          North     40.600000\n",
      "          South     71.666667\n",
      "          West      62.166667\n",
      "Name: Value, dtype: float64\n"
     ]
    }
   ],
   "source": [
    "grouped_mean=df.groupby(['Product','Region'])['Value'].mean()\n",
    "print(grouped_mean)"
   ]
  },
  {
   "cell_type": "code",
   "execution_count": 73,
   "metadata": {},
   "outputs": [
    {
     "name": "stdout",
     "output_type": "stream",
     "text": [
      "Product   Region\n",
      "Product1  South     1225.0\n",
      "          West         0.0\n",
      "Product2  North     2632.0\n",
      "          South      816.0\n",
      "          West      1291.0\n",
      "Product3  East      1708.0\n",
      "          South      619.0\n",
      "          West      2235.0\n",
      "Name: Sales, dtype: float64\n"
     ]
    }
   ],
   "source": [
    "group_mean=df2.groupby(['Product','Region'])['Sales'].sum()\n",
    "print(group_mean)"
   ]
  },
  {
   "cell_type": "code",
   "execution_count": 75,
   "metadata": {},
   "outputs": [
    {
     "name": "stdout",
     "output_type": "stream",
     "text": [
      "             mean     sum  count\n",
      "Region                          \n",
      "East    43.500000   522.0     12\n",
      "North   37.666667   339.0      9\n",
      "South   62.000000   496.0      8\n",
      "West    61.588235  1047.0     17\n"
     ]
    }
   ],
   "source": [
    "group_agg=df.groupby('Region')['Value'].agg(['mean','sum','count'])\n",
    "print(group_agg)"
   ]
  }
 ],
 "metadata": {
  "kernelspec": {
   "display_name": "base",
   "language": "python",
   "name": "python3"
  },
  "language_info": {
   "codemirror_mode": {
    "name": "ipython",
    "version": 3
   },
   "file_extension": ".py",
   "mimetype": "text/x-python",
   "name": "python",
   "nbconvert_exporter": "python",
   "pygments_lexer": "ipython3",
   "version": "3.12.7"
  }
 },
 "nbformat": 4,
 "nbformat_minor": 2
}
