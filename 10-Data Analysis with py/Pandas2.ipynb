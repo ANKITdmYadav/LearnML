{
 "cells": [
  {
   "cell_type": "code",
   "execution_count": 28,
   "metadata": {},
   "outputs": [
    {
     "name": "stdout",
     "output_type": "stream",
     "text": [
      "     B   C   D\n",
      "A             \n",
      "17   4  26  63\n",
      "28  84  33   2\n",
      "97  36  13  81\n",
      "13  17  35  67\n"
     ]
    }
   ],
   "source": [
    "import numpy as np\n",
    "import pandas as pd\n",
    "df=pd.DataFrame(np.random.randint(1,100,size=(4,4)),columns=['A','B','C','D'])\n",
    "df\n",
    "dff=df.set_index('A')\n",
    "print(dff)"
   ]
  },
  {
   "cell_type": "code",
   "execution_count": 22,
   "metadata": {},
   "outputs": [
    {
     "data": {
      "text/html": [
       "<div>\n",
       "<style scoped>\n",
       "    .dataframe tbody tr th:only-of-type {\n",
       "        vertical-align: middle;\n",
       "    }\n",
       "\n",
       "    .dataframe tbody tr th {\n",
       "        vertical-align: top;\n",
       "    }\n",
       "\n",
       "    .dataframe thead th {\n",
       "        text-align: right;\n",
       "    }\n",
       "</style>\n",
       "<table border=\"1\" class=\"dataframe\">\n",
       "  <thead>\n",
       "    <tr style=\"text-align: right;\">\n",
       "      <th></th>\n",
       "      <th>A</th>\n",
       "      <th>B</th>\n",
       "      <th>C</th>\n",
       "    </tr>\n",
       "  </thead>\n",
       "  <tbody>\n",
       "    <tr>\n",
       "      <th>X</th>\n",
       "      <td>70</td>\n",
       "      <td>35</td>\n",
       "      <td>98</td>\n",
       "    </tr>\n",
       "    <tr>\n",
       "      <th>Y</th>\n",
       "      <td>34</td>\n",
       "      <td>60</td>\n",
       "      <td>25</td>\n",
       "    </tr>\n",
       "    <tr>\n",
       "      <th>Z</th>\n",
       "      <td>75</td>\n",
       "      <td>26</td>\n",
       "      <td>62</td>\n",
       "    </tr>\n",
       "  </tbody>\n",
       "</table>\n",
       "</div>"
      ],
      "text/plain": [
       "    A   B   C\n",
       "X  70  35  98\n",
       "Y  34  60  25\n",
       "Z  75  26  62"
      ]
     },
     "execution_count": 22,
     "metadata": {},
     "output_type": "execute_result"
    }
   ],
   "source": [
    "df=pd.DataFrame(np.random.randint(1,100,size=(3,3)),columns=['A','B','C'],index=['X','Y','Z'])\n",
    "df"
   ]
  },
  {
   "cell_type": "code",
   "execution_count": 26,
   "metadata": {},
   "outputs": [
    {
     "name": "stdout",
     "output_type": "stream",
     "text": [
      "Original DataFrame:\n",
      "    A   B   C\n",
      "0  98  70  10\n",
      "1  87  71   9\n",
      "2  75  76  25\n",
      "3  66  23  89\n",
      "4  68   7  63\n"
     ]
    },
    {
     "data": {
      "text/html": [
       "<div>\n",
       "<style scoped>\n",
       "    .dataframe tbody tr th:only-of-type {\n",
       "        vertical-align: middle;\n",
       "    }\n",
       "\n",
       "    .dataframe tbody tr th {\n",
       "        vertical-align: top;\n",
       "    }\n",
       "\n",
       "    .dataframe thead th {\n",
       "        text-align: right;\n",
       "    }\n",
       "</style>\n",
       "<table border=\"1\" class=\"dataframe\">\n",
       "  <thead>\n",
       "    <tr style=\"text-align: right;\">\n",
       "      <th></th>\n",
       "      <th>A</th>\n",
       "      <th>B</th>\n",
       "      <th>C</th>\n",
       "      <th>D</th>\n",
       "    </tr>\n",
       "  </thead>\n",
       "  <tbody>\n",
       "    <tr>\n",
       "      <th>0</th>\n",
       "      <td>98</td>\n",
       "      <td>70</td>\n",
       "      <td>10</td>\n",
       "      <td>6860</td>\n",
       "    </tr>\n",
       "    <tr>\n",
       "      <th>1</th>\n",
       "      <td>87</td>\n",
       "      <td>71</td>\n",
       "      <td>9</td>\n",
       "      <td>6177</td>\n",
       "    </tr>\n",
       "    <tr>\n",
       "      <th>2</th>\n",
       "      <td>75</td>\n",
       "      <td>76</td>\n",
       "      <td>25</td>\n",
       "      <td>5700</td>\n",
       "    </tr>\n",
       "    <tr>\n",
       "      <th>3</th>\n",
       "      <td>66</td>\n",
       "      <td>23</td>\n",
       "      <td>89</td>\n",
       "      <td>1518</td>\n",
       "    </tr>\n",
       "    <tr>\n",
       "      <th>4</th>\n",
       "      <td>68</td>\n",
       "      <td>7</td>\n",
       "      <td>63</td>\n",
       "      <td>476</td>\n",
       "    </tr>\n",
       "  </tbody>\n",
       "</table>\n",
       "</div>"
      ],
      "text/plain": [
       "    A   B   C     D\n",
       "0  98  70  10  6860\n",
       "1  87  71   9  6177\n",
       "2  75  76  25  5700\n",
       "3  66  23  89  1518\n",
       "4  68   7  63   476"
      ]
     },
     "execution_count": 26,
     "metadata": {},
     "output_type": "execute_result"
    }
   ],
   "source": [
    "df = pd.DataFrame(np.random.randint(1, 100, size=(5, 3)), columns=['A', 'B', 'C'])\n",
    "print(\"Original DataFrame:\")\n",
    "print(df)\n",
    "df['D']=df['A']*df['B']\n",
    "df"
   ]
  },
  {
   "cell_type": "code",
   "execution_count": 35,
   "metadata": {},
   "outputs": [
    {
     "name": "stdout",
     "output_type": "stream",
     "text": [
      "  Category  Value\n",
      "0        B      5\n",
      "1        B      8\n",
      "2        A      2\n",
      "3        C      1\n",
      "4        B      4\n",
      "5        A      4\n",
      "6        C      8\n",
      "7        B      7\n",
      "8        A      2\n",
      "9        C      4\n"
     ]
    },
    {
     "data": {
      "text/html": [
       "<div>\n",
       "<style scoped>\n",
       "    .dataframe tbody tr th:only-of-type {\n",
       "        vertical-align: middle;\n",
       "    }\n",
       "\n",
       "    .dataframe tbody tr th {\n",
       "        vertical-align: top;\n",
       "    }\n",
       "\n",
       "    .dataframe thead th {\n",
       "        text-align: right;\n",
       "    }\n",
       "</style>\n",
       "<table border=\"1\" class=\"dataframe\">\n",
       "  <thead>\n",
       "    <tr style=\"text-align: right;\">\n",
       "      <th></th>\n",
       "      <th>sum</th>\n",
       "      <th>mean</th>\n",
       "    </tr>\n",
       "    <tr>\n",
       "      <th>Category</th>\n",
       "      <th></th>\n",
       "      <th></th>\n",
       "    </tr>\n",
       "  </thead>\n",
       "  <tbody>\n",
       "    <tr>\n",
       "      <th>A</th>\n",
       "      <td>8</td>\n",
       "      <td>2.666667</td>\n",
       "    </tr>\n",
       "    <tr>\n",
       "      <th>B</th>\n",
       "      <td>24</td>\n",
       "      <td>6.000000</td>\n",
       "    </tr>\n",
       "    <tr>\n",
       "      <th>C</th>\n",
       "      <td>13</td>\n",
       "      <td>4.333333</td>\n",
       "    </tr>\n",
       "  </tbody>\n",
       "</table>\n",
       "</div>"
      ],
      "text/plain": [
       "          sum      mean\n",
       "Category               \n",
       "A           8  2.666667\n",
       "B          24  6.000000\n",
       "C          13  4.333333"
      ]
     },
     "execution_count": 35,
     "metadata": {},
     "output_type": "execute_result"
    }
   ],
   "source": [
    "df=pd.DataFrame({'Category':np.random.choice(['A','B','C'],size=10),'Value':np.random.randint(1,10,size=10)})\n",
    "print(df)\n",
    "# kk=df.groupby('Category')['Value'].agg(['sum','mean'])"
   ]
  },
  {
   "cell_type": "code",
   "execution_count": 63,
   "metadata": {},
   "outputs": [
    {
     "name": "stdout",
     "output_type": "stream",
     "text": [
      "    A   B\n",
      "0  16  21\n",
      "1  89  51\n",
      "2  34  91\n",
      "    B   D\n",
      "0  51  52\n",
      "1  12  11\n",
      "2  46  26\n"
     ]
    },
    {
     "data": {
      "text/html": [
       "<div>\n",
       "<style scoped>\n",
       "    .dataframe tbody tr th:only-of-type {\n",
       "        vertical-align: middle;\n",
       "    }\n",
       "\n",
       "    .dataframe tbody tr th {\n",
       "        vertical-align: top;\n",
       "    }\n",
       "\n",
       "    .dataframe thead th {\n",
       "        text-align: right;\n",
       "    }\n",
       "</style>\n",
       "<table border=\"1\" class=\"dataframe\">\n",
       "  <thead>\n",
       "    <tr style=\"text-align: right;\">\n",
       "      <th></th>\n",
       "      <th>A</th>\n",
       "      <th>B</th>\n",
       "      <th>D</th>\n",
       "    </tr>\n",
       "  </thead>\n",
       "  <tbody>\n",
       "    <tr>\n",
       "      <th>0</th>\n",
       "      <td>89</td>\n",
       "      <td>51</td>\n",
       "      <td>52</td>\n",
       "    </tr>\n",
       "  </tbody>\n",
       "</table>\n",
       "</div>"
      ],
      "text/plain": [
       "    A   B   D\n",
       "0  89  51  52"
      ]
     },
     "execution_count": 63,
     "metadata": {},
     "output_type": "execute_result"
    }
   ],
   "source": [
    "df1 = pd.DataFrame({'A': np.random.randint(1, 100, size=3), 'B': np.random.randint(1, 100, size=3)})\n",
    "df2 = pd.DataFrame({'B': np.random.randint(1, 100, size=3), 'D': np.random.randint(1, 100, size=3)})\n",
    "print(df1)\n",
    "print(df2)\n",
    "kk=pd.merge(df1,df2)\n",
    "kk\n"
   ]
  },
  {
   "cell_type": "code",
   "execution_count": 127,
   "metadata": {},
   "outputs": [
    {
     "name": "stdout",
     "output_type": "stream",
     "text": [
      "Monthly mean DF:\n",
      "                 data\n",
      "date                 \n",
      "2024-01-01        NaN\n",
      "2024-01-02        NaN\n",
      "2024-01-03        NaN\n",
      "2024-01-04        NaN\n",
      "2024-01-05        NaN\n",
      "2024-01-06        NaN\n",
      "2024-01-07  50.714286\n",
      "2024-01-08  49.714286\n",
      "2024-01-09  49.000000\n",
      "2024-01-10  47.714286\n",
      "2024-01-11  54.428571\n",
      "2024-01-12  55.285714\n",
      "2024-01-13  52.000000\n",
      "2024-01-14  42.857143\n",
      "2024-01-15  47.857143\n",
      "2024-01-16  50.142857\n",
      "2024-01-17  52.000000\n",
      "2024-01-18  53.285714\n",
      "2024-01-19  42.428571\n",
      "2024-01-20  44.285714\n",
      "2024-01-21  55.428571\n",
      "2024-01-22  53.428571\n",
      "2024-01-23  59.428571\n",
      "2024-01-24  63.428571\n",
      "2024-01-25  51.142857\n",
      "2024-01-26  63.285714\n",
      "2024-01-27  65.857143\n",
      "2024-01-28  52.714286\n",
      "2024-01-29  62.000000\n",
      "2024-01-30  62.571429\n",
      "2024-01-31  63.714286\n"
     ]
    }
   ],
   "source": [
    "date_rng=pd.date_range(start='2024-01-01',end='2024-01-31',freq='D')\n",
    "df=pd.DataFrame(date_rng,columns=['date'])\n",
    "df['data']=np.random.randint(0,100,size=(len(date_rng)))\n",
    "df.set_index('date',inplace=True)\n",
    "# print(df)\n",
    "\n",
    "monthly_mean=df.resample('ME').mean()\n",
    "print(\"Monthly mean DF:\")\n",
    "# print(monthly_mean)\n",
    "\n",
    "rolling_mean=df.rolling(window=7).mean()\n",
    "print(rolling_mean)"
   ]
  },
  {
   "cell_type": "code",
   "execution_count": 83,
   "metadata": {},
   "outputs": [
    {
     "name": "stdout",
     "output_type": "stream",
     "text": [
      "multiIndex DF\n",
      "                      Val1  Val2  Val3\n",
      "Category SubCategory                  \n",
      "A        one            32    33    32\n",
      "         two            44    79     1\n",
      "B        one            89    43    50\n",
      "         two            84    25    32\n",
      "             Val1  Val2  Val3\n",
      "SubCategory                  \n",
      "one            32    33    32\n",
      "two            44    79     1\n"
     ]
    }
   ],
   "source": [
    "array = [['A', 'A', 'B', 'B'], ['one', 'two', 'one', 'two']]\n",
    "index=pd.MultiIndex.from_arrays(array,names=('Category','SubCategory'))\n",
    "df=pd.DataFrame(np.random.randint(1,100,size=(4,3)),index=index, columns=['Val1','Val2','Val3'])\n",
    "print(\"multiIndex DF\")\n",
    "print(df)\n",
    "# print(df.loc['A'])\n",
    "\n"
   ]
  },
  {
   "cell_type": "code",
   "execution_count": 97,
   "metadata": {},
   "outputs": [
    {
     "name": "stdout",
     "output_type": "stream",
     "text": [
      "multiIndex DF\n",
      "                                     Val1  Val2  Val3\n",
      "Category SubCategory subsubCategory                  \n",
      "A        one         1                 90    44    49\n",
      "                     2                 43    42    60\n",
      "         two         3                 60    71    79\n",
      "                     8                 57    11    21\n",
      "B        one         4                 39    70    97\n",
      "                     2                 50    54    72\n",
      "         two         4                 33    72    44\n",
      "                     7                 55    73    39\n",
      "                      Val1  Val2  Val3\n",
      "Category SubCategory                  \n",
      "A        one           133    86   109\n",
      "         two           117    82   100\n",
      "B        one            89   124   169\n",
      "         two            88   145    83\n"
     ]
    }
   ],
   "source": [
    "array = [['A', 'A','A', 'A', 'B', 'B','B', 'B'], ['one','one', 'two','two', 'one','one', 'two','two'],np.random.randint(1,9,size=8)]\n",
    "index=pd.MultiIndex.from_arrays(array,names=('Category','SubCategory','subsubCategory'))\n",
    "df=pd.DataFrame(np.random.randint(1,100,size=(8,3)),index=index, columns=['Val1','Val2','Val3'])\n",
    "print(\"multiIndex DF\")\n",
    "print(df)\n",
    "\n",
    "sum_values=df.groupby(['Category','SubCategory']).sum()\n",
    "print(sum_values)"
   ]
  },
  {
   "cell_type": "code",
   "execution_count": 99,
   "metadata": {},
   "outputs": [
    {
     "name": "stdout",
     "output_type": "stream",
     "text": [
      "Original DataFrame:\n",
      "         Date Category  Value\n",
      "0  2022-01-09        B     45\n",
      "1  2022-01-08        B     35\n",
      "2  2022-01-10        B     53\n",
      "3  2022-01-08        A     56\n",
      "4  2022-01-05        C     65\n",
      "5  2022-01-06        B      3\n",
      "6  2022-01-10        B      7\n",
      "7  2022-01-01        B     44\n",
      "8  2022-01-03        A     83\n",
      "9  2022-01-01        B     78\n",
      "10 2022-01-08        B     85\n",
      "11 2022-01-02        A     54\n",
      "12 2022-01-04        B     70\n",
      "13 2022-01-06        C     77\n",
      "14 2022-01-05        B     63\n",
      "15 2022-01-08        A     56\n",
      "16 2022-01-09        B     82\n",
      "17 2022-01-03        C     67\n",
      "18 2022-01-06        B     71\n",
      "19 2022-01-05        A     54\n",
      "Pivot Table:\n",
      "Category        A      B     C\n",
      "Date                          \n",
      "2022-01-01    NaN  122.0   NaN\n",
      "2022-01-02   54.0    NaN   NaN\n",
      "2022-01-03   83.0    NaN  67.0\n",
      "2022-01-04    NaN   70.0   NaN\n",
      "2022-01-05   54.0   63.0  65.0\n",
      "2022-01-06    NaN   74.0  77.0\n",
      "2022-01-08  112.0  120.0   NaN\n",
      "2022-01-09    NaN  127.0   NaN\n",
      "2022-01-10    NaN   60.0   NaN\n"
     ]
    }
   ],
   "source": [
    "date_rng = pd.date_range(start='2022-01-01', end='2022-01-10', freq='D')\n",
    "df = pd.DataFrame({'Date': np.random.choice(date_rng, size=20), 'Category': np.random.choice(['A', 'B', 'C'], size=20), 'Value': np.random.randint(1, 100, size=20)})\n",
    "print(\"Original DataFrame:\")\n",
    "print(df)\n",
    "\n",
    "# Create a pivot table to compute the sum of 'Value' for each 'Category' by 'Date'\n",
    "pivot_table = df.pivot_table(values='Value', index='Date', columns='Category', aggfunc='sum')\n",
    "print(\"Pivot Table:\")\n",
    "print(pivot_table)"
   ]
  },
  {
   "cell_type": "code",
   "execution_count": 100,
   "metadata": {},
   "outputs": [
    {
     "name": "stdout",
     "output_type": "stream",
     "text": [
      "    Year Quarter  Revenue\n",
      "0   2020      Q1      332\n",
      "1   2020      Q4      578\n",
      "2   2021      Q4      342\n",
      "3   2020      Q4      616\n",
      "4   2021      Q4       66\n",
      "5   2021      Q3      221\n",
      "6   2021      Q4      480\n",
      "7   2021      Q3      483\n",
      "8   2022      Q3      120\n",
      "9   2020      Q2       26\n",
      "10  2021      Q2      386\n",
      "11  2021      Q4       14\n",
      "Quarter     Q1     Q2     Q3     Q4\n",
      "Year                               \n",
      "2020     332.0   26.0    NaN  597.0\n",
      "2021       NaN  386.0  352.0  225.5\n",
      "2022       NaN    NaN  120.0    NaN\n"
     ]
    }
   ],
   "source": [
    "df = pd.DataFrame({'Year': np.random.choice([2020, 2021, 2022], size=12), 'Quarter': np.random.choice(['Q1', 'Q2', 'Q3', 'Q4'], size=12), 'Revenue': np.random.randint(1, 1000, size=12)})\n",
    "print(df)\n",
    "pivot_table=df.pivot_table(values='Revenue',columns='Quarter',index='Year',aggfunc='mean')\n",
    "print(pivot_table)\n",
    "\n"
   ]
  },
  {
   "cell_type": "code",
   "execution_count": 105,
   "metadata": {},
   "outputs": [
    {
     "name": "stdout",
     "output_type": "stream",
     "text": [
      "Original DataFrame:\n",
      "    A   B   C\n",
      "0  13  95  91\n",
      "1  26  29   7\n",
      "2  62  46  56\n",
      "3  77  24  12\n",
      "4  67  22  61\n",
      "     A    B    C\n",
      "0   26  190  182\n",
      "1   52   58   14\n",
      "2  124   92  112\n",
      "3  154   48   24\n",
      "4  134   44  122\n",
      "     A    B    C\n",
      "0   26  190  182\n",
      "1   52   58   14\n",
      "2  124   92  112\n",
      "3  154   48   24\n",
      "4  134   44  122\n",
      "    A   B   C  sum\n",
      "0  13  95  91  199\n",
      "1  26  29   7   62\n",
      "2  62  46  56  164\n",
      "3  77  24  12  113\n",
      "4  67  22  61  150\n"
     ]
    }
   ],
   "source": [
    "df = pd.DataFrame(np.random.randint(1, 100, size=(5, 3)), columns=['A', 'B', 'C'])\n",
    "print(\"Original DataFrame:\")\n",
    "print(df)\n",
    "\n",
    "doubled=df.apply(lambda x:x*2)\n",
    "print(doubled)\n",
    "\n",
    "dd=df.map(lambda x:x*2)\n",
    "print(dd)\n",
    "\n",
    "df['sum']=df.apply(lambda row:row.sum(),axis=1)\n",
    "print(df)"
   ]
  },
  {
   "cell_type": "code",
   "execution_count": null,
   "metadata": {},
   "outputs": [],
   "source": []
  },
  {
   "cell_type": "code",
   "execution_count": null,
   "metadata": {},
   "outputs": [],
   "source": []
  },
  {
   "cell_type": "code",
   "execution_count": null,
   "metadata": {},
   "outputs": [],
   "source": []
  },
  {
   "cell_type": "code",
   "execution_count": null,
   "metadata": {},
   "outputs": [],
   "source": []
  }
 ],
 "metadata": {
  "kernelspec": {
   "display_name": "base",
   "language": "python",
   "name": "python3"
  },
  "language_info": {
   "codemirror_mode": {
    "name": "ipython",
    "version": 3
   },
   "file_extension": ".py",
   "mimetype": "text/x-python",
   "name": "python",
   "nbconvert_exporter": "python",
   "pygments_lexer": "ipython3",
   "version": "3.12.7"
  }
 },
 "nbformat": 4,
 "nbformat_minor": 2
}
