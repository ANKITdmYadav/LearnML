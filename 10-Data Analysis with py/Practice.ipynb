{
 "cells": [
  {
   "cell_type": "code",
   "execution_count": 54,
   "metadata": {},
   "outputs": [
    {
     "name": "stdout",
     "output_type": "stream",
     "text": [
      "[[11  5  2  5 12]\n",
      " [18  8 17  1 18]\n",
      " [12  2 20  3  1]\n",
      " [ 8  4 12  8 16]\n",
      " [14 11 13  5  5]]\n",
      "[[11  5  2  1 12]\n",
      " [18  8 17  1 18]\n",
      " [12  2 20  1  1]\n",
      " [ 8  4 12  1 16]\n",
      " [14 11 13  1  5]]\n"
     ]
    }
   ],
   "source": [
    "# create numpy array of shape(5,5) filled with random integers\n",
    "#  b\\w 1&20. Replace all elements in the 3rd column with 1\n",
    "\n",
    "import numpy as np\n",
    "array=np.random.randint(1,21,size=(5,5))\n",
    "print(array)\n",
    "\n",
    "# array[:,3:4]=1      in 4th column change it to 1\n",
    "\n",
    "# array[2:3,4]=1            means 2nd row and 4th column = 1\n",
    "print(array)\n"
   ]
  },
  {
   "cell_type": "code",
   "execution_count": 62,
   "metadata": {},
   "outputs": [
    {
     "name": "stdout",
     "output_type": "stream",
     "text": [
      "[[ 1  2  3  4]\n",
      " [ 5  6  7  8]\n",
      " [ 9 10 11 12]\n",
      " [13 14 15 16]]\n",
      "[[ 0  2  3  4]\n",
      " [ 5  0  7  8]\n",
      " [ 9 10  0 12]\n",
      " [13 14 15  0]]\n"
     ]
    }
   ],
   "source": [
    "array=np.arange(1,17).reshape((4,4))\n",
    "print(array)\n",
    "\n",
    "np.fill_diagonal(array,0)\n",
    "print(array)"
   ]
  },
  {
   "cell_type": "code",
   "execution_count": 68,
   "metadata": {},
   "outputs": [
    {
     "name": "stdout",
     "output_type": "stream",
     "text": [
      "[[ 1  2  3  4  5  6]\n",
      " [ 7  8  9 10 11 12]\n",
      " [13 14 15 16 17 18]\n",
      " [19 20 21 22 23 24]\n",
      " [25 26 27 28 29 30]\n",
      " [31 32 33 34 35 36]]\n",
      "[[19 20 21 22 23 24]\n",
      " [25 26 27 28 29 30]]\n",
      "[[ 3  4]\n",
      " [ 9 10]\n",
      " [15 16]\n",
      " [21 22]\n",
      " [27 28]\n",
      " [33 34]]\n",
      "[[21 22]\n",
      " [27 28]]\n"
     ]
    }
   ],
   "source": [
    "array=np.arange(1,37).reshape((6,6))\n",
    "print(array)\n",
    "print(array[3:5])\n",
    "print(array[:,2:4])\n",
    "print(array[3:5,2:4])\n",
    "\n"
   ]
  },
  {
   "cell_type": "code",
   "execution_count": 71,
   "metadata": {},
   "outputs": [
    {
     "name": "stdout",
     "output_type": "stream",
     "text": [
      "[[ 8 13 11  7 19]\n",
      " [ 7 14 16 14 10]\n",
      " [19 17 17 15  6]\n",
      " [ 8 19  7 11  7]\n",
      " [ 7 15  3 16 13]]\n",
      "[ 8 13 11  7 19  7 15  3 16 13  7 19  8 10  6  7]\n"
     ]
    }
   ],
   "source": [
    "array = np.random.randint(1, 21, size=(5, 5))\n",
    "print(array)\n",
    "num=np.concatenate((array[0,:],array[-1,:],array[1:-1,0],array[1:-1,-1]))\n",
    "print(num)"
   ]
  },
  {
   "cell_type": "code",
   "execution_count": 75,
   "metadata": {},
   "outputs": [
    {
     "name": "stdout",
     "output_type": "stream",
     "text": [
      "[[ 5  8  7  6]\n",
      " [10  8  2  6]\n",
      " [ 5  4 10  2]]\n"
     ]
    }
   ],
   "source": [
    "arr1=np.random.randint(1,11,size=(3,4)) \n",
    "arr2=np.random.randint(1,11,size=(3,4)) \n",
    "# print(arr1)\n",
    "addition=arr1+arr2"
   ]
  },
  {
   "cell_type": "code",
   "execution_count": 81,
   "metadata": {},
   "outputs": [
    {
     "name": "stdout",
     "output_type": "stream",
     "text": [
      "[[ 2  5  6  5]\n",
      " [ 9  9  2  4]\n",
      " [ 5  8  3  1]\n",
      " [ 4  7 10 10]] \n",
      " [[ 1 10  3  7]\n",
      " [ 4  5  9  4]\n",
      " [ 1  5  2  8]\n",
      " [ 5  7  3  3]]\n",
      "[[[ 3 15  9 12]\n",
      "  [ 6 10 15  9]\n",
      "  [ 3 10  8 13]\n",
      "  [ 7 12  9  8]]\n",
      "\n",
      " [[10 19  5 11]\n",
      "  [13 14 11  8]\n",
      "  [10 14  4 12]\n",
      "  [14 16  5  7]]\n",
      "\n",
      " [[ 6 18  6  8]\n",
      "  [ 9 13 12  5]\n",
      "  [ 6 13  5  9]\n",
      "  [10 15  6  4]]\n",
      "\n",
      " [[ 5 17 13 17]\n",
      "  [ 8 12 19 14]\n",
      "  [ 5 12 12 18]\n",
      "  [ 9 14 13 13]]]\n"
     ]
    }
   ],
   "source": [
    "arr1=np.random.randint(1,11,size=(4,4)) \n",
    "arr2=np.random.randint(1,11,size=(4,4)) \n",
    "print(f\"{arr1} \\n {arr2}\")\n",
    "# row_sum=np.sum(arr1,axis=1)\n",
    "# col_sum=np.sum(arr2,axis=0)\n",
    "\n",
    "\n",
    "\n",
    "# below is row and column sum\n",
    "combined_sum=arr1[:,np.newaxis]+arr2\n",
    "print(combined_sum)\n"
   ]
  },
  {
   "cell_type": "code",
   "execution_count": 92,
   "metadata": {},
   "outputs": [
    {
     "name": "stdout",
     "output_type": "stream",
     "text": [
      "Original array:\n",
      "[[ 2  9  1 17 10]\n",
      " [ 9  1 11 16 18]\n",
      " [ 9  3  7  4 11]\n",
      " [11 12  8 14  9]\n",
      " [15  1 15 12  1]]\n",
      "[ 2 10 15 10]\n"
     ]
    }
   ],
   "source": [
    "array = np.random.randint(1, 21, size=(5, 5))\n",
    "print(\"Original array:\")\n",
    "print(array)\n",
    "\n",
    "corners=array[[0,0,-1,0],[0,-1,0,-1]]\n",
    "print(corners)"
   ]
  },
  {
   "cell_type": "code",
   "execution_count": 106,
   "metadata": {},
   "outputs": [
    {
     "name": "stdout",
     "output_type": "stream",
     "text": [
      "[('Alice', 24, 55.5) ('Bob', 34, 98. )]\n",
      "['Alice' 'Bob']\n"
     ]
    }
   ],
   "source": [
    "data_type=[('name','U10'),('age','i4'),('weight','f4')]\n",
    "data=np.array([('Alice',24,55.5),('Bob',34,98)],dtype=data_type)\n",
    "print(data)\n",
    "print(data['name'])\n"
   ]
  },
  {
   "cell_type": "code",
   "execution_count": 98,
   "metadata": {},
   "outputs": [
    {
     "name": "stdout",
     "output_type": "stream",
     "text": [
      "[(1, 2) (3, 4) (5, 6)]\n",
      "[[0.         2.82842712 5.65685425]\n",
      " [2.82842712 0.         2.82842712]\n",
      " [5.65685425 2.82842712 0.        ]]\n"
     ]
    }
   ],
   "source": [
    "data_type=[('x','i4'),('y','i4')]\n",
    "data=np.array([(1,2),(3,4),(5,6)],dtype=data_type)\n",
    "print(data)\n",
    "dist=np.sqrt((data['x'][:,np.newaxis] - data['x'])**2 + (data['y'][:,np.newaxis]-data['y'])**2)\n",
    "print(dist)\n"
   ]
  },
  {
   "cell_type": "code",
   "execution_count": 107,
   "metadata": {},
   "outputs": [],
   "source": [
    "import numpy.ma as ma\n",
    "\n",
    "# Create a masked array of shape (4, 4) with random integers\n",
    "array = np.random.randint(1, 21, size=(4, 4))\n",
    "masked_array=ma.masked_greater(array,10)\n",
    "sum_unmasked=masked_array.sum()\n"
   ]
  },
  {
   "cell_type": "code",
   "execution_count": 110,
   "metadata": {},
   "outputs": [
    {
     "name": "stdout",
     "output_type": "stream",
     "text": [
      "[[-- 6 20 4]\n",
      " [18 -- 1 19]\n",
      " [3 2 -- 1]\n",
      " [3 17 19 --]]\n"
     ]
    }
   ],
   "source": [
    "array = np.random.randint(1, 21, size=(4, 4))\n",
    "masked_array=ma.masked_array(array,mask=np.eye(4,dtype=bool))\n",
    "print(masked_array)"
   ]
  }
 ],
 "metadata": {
  "kernelspec": {
   "display_name": "base",
   "language": "python",
   "name": "python3"
  },
  "language_info": {
   "codemirror_mode": {
    "name": "ipython",
    "version": 3
   },
   "file_extension": ".py",
   "mimetype": "text/x-python",
   "name": "python",
   "nbconvert_exporter": "python",
   "pygments_lexer": "ipython3",
   "version": "3.12.7"
  }
 },
 "nbformat": 4,
 "nbformat_minor": 2
}
