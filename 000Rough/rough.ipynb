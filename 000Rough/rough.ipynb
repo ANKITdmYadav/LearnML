{
 "cells": [
  {
   "cell_type": "code",
   "execution_count": null,
   "metadata": {
    "vscode": {
     "languageId": "plaintext"
    }
   },
   "outputs": [],
   "source": [
    "ListNode* reverseList(ListNode* temp){\n",
    "        if(temp==NULL || temp->next==NULL){\n",
    "            return temp;\n",
    "        }\n",
    "        ListNode* newHead=reverseList(temp->next);\n",
    "        temp->next->next=temp;\n",
    "        temp->next=NULL;\n",
    "        return newHead;\n",
    "    }\n",
    "\n",
    "\n",
    "    ListNode* removeNodes(ListNode* head) {\n",
    "        if(head==NULL || head->next==NULL) return head;\n",
    "        ListNode* reverseHead=reverseList(head);\n",
    "        ListNode* current=reverseHead;\n",
    "        int max_val=reverseHead->val;\n",
    "        while(current!=NULL && current->next!=NULL){\n",
    "            if(current->next->val < max_val){\n",
    "                ListNode* delNode=current->next;\n",
    "                \n",
    "                current->next=current->next->next;\n",
    "                delete delNode;\n",
    "            }\n",
    "            else {\n",
    "                // max_val=current->next->val;\n",
    "                current=current->next;\n",
    "            }\n",
    "        }\n",
    "        ListNode* final_head= reverseList(reverseHead);\n",
    "        return final_head;\n",
    "    }"
   ]
  },
  {
   "cell_type": "code",
   "execution_count": null,
   "metadata": {
    "vscode": {
     "languageId": "plaintext"
    }
   },
   "outputs": [],
   "source": [
    "class StockSpanner {\n",
    "public:\n",
    "    stack<pair<int,int>> st;\n",
    "    int ind=-1;\n",
    "    StockSpanner() {\n",
    "        ind=-1;\n",
    "    }\n",
    "   \n",
    "    int next(int price) {\n",
    "        ind++;\n",
    "        while(!st.empty() && st.top().first<=price)\n",
    "                st.pop();\n",
    "\n",
    "        int ans=ind-(st.empty()?-1:st.top().second);\n",
    "        st.push({price,ind});\n",
    "        \n",
    "        return ans;\n",
    "        \n",
    "    }\n",
    "};\n",
    "\n",
    "/**\n",
    " * Your StockSpanner object will be instantiated and called as such:\n",
    " * StockSpanner* obj = new StockSpanner();\n",
    " * int param_1 = obj->next(price);\n",
    " */"
   ]
  },
  {
   "cell_type": "code",
   "execution_count": null,
   "metadata": {
    "vscode": {
     "languageId": "plaintext"
    }
   },
   "outputs": [],
   "source": []
  },
  {
   "cell_type": "code",
   "execution_count": null,
   "metadata": {
    "vscode": {
     "languageId": "plaintext"
    }
   },
   "outputs": [],
   "source": []
  },
  {
   "cell_type": "code",
   "execution_count": null,
   "metadata": {
    "vscode": {
     "languageId": "plaintext"
    }
   },
   "outputs": [],
   "source": []
  },
  {
   "cell_type": "code",
   "execution_count": null,
   "metadata": {
    "vscode": {
     "languageId": "plaintext"
    }
   },
   "outputs": [],
   "source": []
  },
  {
   "cell_type": "code",
   "execution_count": null,
   "metadata": {
    "vscode": {
     "languageId": "plaintext"
    }
   },
   "outputs": [],
   "source": []
  }
 ],
 "metadata": {
  "language_info": {
   "name": "python"
  }
 },
 "nbformat": 4,
 "nbformat_minor": 2
}
